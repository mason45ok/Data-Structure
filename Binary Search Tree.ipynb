{
 "cells": [
  {
   "cell_type": "code",
   "execution_count": 1,
   "metadata": {},
   "outputs": [
    {
     "name": "stdout",
     "output_type": "stream",
     "text": [
      "排序後的二元樹結果: [2, 5, 12, 32, 66, 76, 453]\n"
     ]
    }
   ],
   "source": [
    "class TreeNode:\n",
    "    def __init__(self, value):\n",
    "        self.value = value\n",
    "        self.left = None\n",
    "        self.right = None\n",
    "\n",
    "def insert(root, value):\n",
    "    if root is None:\n",
    "        return TreeNode(value)\n",
    "    \n",
    "    if value < root.value:\n",
    "        root.left = insert(root.left, value)\n",
    "    else:\n",
    "        root.right = insert(root.right, value)\n",
    "    \n",
    "    return root\n",
    "\n",
    "def inorder_traversal(root):\n",
    "    result = []\n",
    "    if root:\n",
    "        result += inorder_traversal(root.left)\n",
    "        result.append(root.value)\n",
    "        result += inorder_traversal(root.right)\n",
    "    return result\n",
    "\n",
    "# 用於構建 BST 的數組\n",
    "input_array = [12, 32, 453, 2, 5, 66, 76]\n",
    "\n",
    "# 初始化二元搜尋樹\n",
    "root = None\n",
    "\n",
    "# 插入數組中的元素\n",
    "for value in input_array:\n",
    "    root = insert(root, value)\n",
    "\n",
    "# 中序遍歷以獲得排序後的數組\n",
    "sorted_result = inorder_traversal(root)\n",
    "\n",
    "print(\"排序後的二元樹結果:\", sorted_result)"
   ]
  }
 ],
 "metadata": {
  "kernelspec": {
   "display_name": "Python 3",
   "language": "python",
   "name": "python3"
  },
  "language_info": {
   "codemirror_mode": {
    "name": "ipython",
    "version": 3
   },
   "file_extension": ".py",
   "mimetype": "text/x-python",
   "name": "python",
   "nbconvert_exporter": "python",
   "pygments_lexer": "ipython3",
   "version": "3.11.8"
  }
 },
 "nbformat": 4,
 "nbformat_minor": 2
}
